{
 "cells": [
  {
   "cell_type": "code",
   "execution_count": 26,
   "metadata": {},
   "outputs": [],
   "source": [
    "import pandas as pd\n",
    "from nltk.corpus import stopwords\n",
    "from nltk import WordNetLemmatizer\n",
    "import string\n",
    "from sklearn.linear_model import LogisticRegression\n",
    "from sklearn.model_selection import cross_val_score, StratifiedKFold\n",
    "from sklearn.feature_extraction.text import TfidfVectorizer\n",
    "from scipy.sparse import hstack\n",
    "from matplotlib import pyplot as plt\n",
    "\n",
    "PATH = 'Indeed/data'"
   ]
  },
  {
   "cell_type": "code",
   "execution_count": 50,
   "metadata": {},
   "outputs": [],
   "source": [
    "stop_words = stopwords.words('english')\n",
    "stop = set(stop_words)\n",
    "stop.add(\"miss\")\n",
    "\n",
    "exclude = set(string.punctuation)\n",
    "lemma = WordNetLemmatizer()         # 词干化"
   ]
  },
  {
   "cell_type": "code",
   "execution_count": null,
   "metadata": {},
   "outputs": [],
   "source": []
  },
  {
   "cell_type": "code",
   "execution_count": 54,
   "metadata": {},
   "outputs": [],
   "source": [
    "def clean(text):\n",
    "    if text == \"MISS\":\n",
    "        return ' '\n",
    "    stop_free = \" \".join([i for i in text.lower().split() if i not in stop])\n",
    "    punc_free = ''.join(ch for ch in stop_free if ch not in exclude)\n",
    "    normalized = \" \".join(lemma.lemmatize(word) for word in punc_free.split())\n",
    "    return normalized\n",
    "\n",
    "\n",
    "train_data = pd.read_csv(PATH + '/train.csv').dropna(subset=['text', 'cons', 'pros'])\n",
    "dev_data = pd.read_csv(PATH + '/dev.csv').dropna(subset=['text', 'cons', 'pros'])\n",
    "test_data = pd.read_csv(PATH + '/dev.csv').dropna(subset=['text', 'cons', 'pros'])"
   ]
  },
  {
   "cell_type": "markdown",
   "metadata": {},
   "source": [
    "## 只使用总结性描述 text"
   ]
  },
  {
   "cell_type": "code",
   "execution_count": 31,
   "metadata": {},
   "outputs": [],
   "source": [
    "train_text = [clean(text) for text in train_data.loc[:]['text']]\n",
    "dev_text = [clean(text) for text in dev_data.loc[:]['text']]\n",
    "test_text = [clean(text) for text in test_data.loc[:]['text']]"
   ]
  },
  {
   "cell_type": "code",
   "execution_count": 32,
   "metadata": {},
   "outputs": [
    {
     "name": "stdout",
     "output_type": "stream",
     "text": [
      "(676028, 26) (85381, 26) (85381, 26)\n"
     ]
    }
   ],
   "source": [
    "print(train_data.shape, dev_data.shape, test_data.shape)"
   ]
  },
  {
   "cell_type": "code",
   "execution_count": 13,
   "metadata": {},
   "outputs": [
    {
     "data": {
      "text/html": [
       "<div>\n",
       "<style scoped>\n",
       "    .dataframe tbody tr th:only-of-type {\n",
       "        vertical-align: middle;\n",
       "    }\n",
       "\n",
       "    .dataframe tbody tr th {\n",
       "        vertical-align: top;\n",
       "    }\n",
       "\n",
       "    .dataframe thead th {\n",
       "        text-align: right;\n",
       "    }\n",
       "</style>\n",
       "<table border=\"1\" class=\"dataframe\">\n",
       "  <thead>\n",
       "    <tr style=\"text-align: right;\">\n",
       "      <th></th>\n",
       "      <th>text</th>\n",
       "      <th>cons</th>\n",
       "      <th>pros</th>\n",
       "      <th>overall_rating</th>\n",
       "    </tr>\n",
       "  </thead>\n",
       "  <tbody>\n",
       "    <tr>\n",
       "      <th>0</th>\n",
       "      <td>As an International Student Product Engineer, ...</td>\n",
       "      <td>distant management</td>\n",
       "      <td>wonderful interaction with other facilities</td>\n",
       "      <td>4</td>\n",
       "    </tr>\n",
       "    <tr>\n",
       "      <th>1</th>\n",
       "      <td>I supported patients by providing housekeeping...</td>\n",
       "      <td>MISS</td>\n",
       "      <td>MISS</td>\n",
       "      <td>5</td>\n",
       "    </tr>\n",
       "    <tr>\n",
       "      <th>2</th>\n",
       "      <td>Working environment is pleasant and up lifting...</td>\n",
       "      <td>Gov. contracting bids are main bread and butter.</td>\n",
       "      <td>Free Coffee, award fees for job well done</td>\n",
       "      <td>4</td>\n",
       "    </tr>\n",
       "    <tr>\n",
       "      <th>3</th>\n",
       "      <td>Installation und Inbetriebnahme von Anlagen.rn...</td>\n",
       "      <td>Arbeitszeiten</td>\n",
       "      <td>Firmenwagen</td>\n",
       "      <td>4</td>\n",
       "    </tr>\n",
       "    <tr>\n",
       "      <th>4</th>\n",
       "      <td>pretty good place but does not offer many hour...</td>\n",
       "      <td>MISS</td>\n",
       "      <td>MISS</td>\n",
       "      <td>3</td>\n",
       "    </tr>\n",
       "  </tbody>\n",
       "</table>\n",
       "</div>"
      ],
      "text/plain": [
       "                                                text  \\\n",
       "0  As an International Student Product Engineer, ...   \n",
       "1  I supported patients by providing housekeeping...   \n",
       "2  Working environment is pleasant and up lifting...   \n",
       "3  Installation und Inbetriebnahme von Anlagen.rn...   \n",
       "4  pretty good place but does not offer many hour...   \n",
       "\n",
       "                                               cons  \\\n",
       "0                                distant management   \n",
       "1                                              MISS   \n",
       "2  Gov. contracting bids are main bread and butter.   \n",
       "3                                     Arbeitszeiten   \n",
       "4                                              MISS   \n",
       "\n",
       "                                          pros  overall_rating  \n",
       "0  wonderful interaction with other facilities               4  \n",
       "1                                         MISS               5  \n",
       "2    Free Coffee, award fees for job well done               4  \n",
       "3                                  Firmenwagen               4  \n",
       "4                                         MISS               3  "
      ]
     },
     "execution_count": 13,
     "metadata": {},
     "output_type": "execute_result"
    }
   ],
   "source": [
    "# 文本由三个部分组成，总结性描述text，缺点描述cons, 优点描述pros\n",
    "train_data[['text', 'cons', 'pros', 'overall_rating']].head()"
   ]
  },
  {
   "cell_type": "code",
   "execution_count": 14,
   "metadata": {},
   "outputs": [
    {
     "data": {
      "text/plain": [
       "<matplotlib.axes._subplots.AxesSubplot at 0x1bcc886aa58>"
      ]
     },
     "execution_count": 14,
     "metadata": {},
     "output_type": "execute_result"
    },
    {
     "data": {
      "image/png": "[encoded data removed]",
      "text/plain": [
       "<Figure size 432x288 with 1 Axes>"
      ]
     },
     "metadata": {
      "needs_background": "light"
     },
     "output_type": "display_data"
    }
   ],
   "source": [
    "train_data['overall_rating'].hist()"
   ]
  },
  {
   "cell_type": "markdown",
   "metadata": {},
   "source": [
    "***\n",
    "**tf-idf Transformer**"
   ]
  },
  {
   "cell_type": "code",
   "execution_count": 33,
   "metadata": {},
   "outputs": [],
   "source": [
    "tfidf_transformer = TfidfVectorizer(ngram_range=(1, 2), max_features=100000)"
   ]
  },
  {
   "cell_type": "code",
   "execution_count": 34,
   "metadata": {},
   "outputs": [],
   "source": [
    "X_train = tfidf_transformer.fit_transform(train_text)\n",
    "X_test = tfidf_transformer.transform(test_text)\n",
    "X_dev = tfidf_transformer.transform(dev_text)"
   ]
  },
  {
   "cell_type": "code",
   "execution_count": 35,
   "metadata": {},
   "outputs": [],
   "source": [
    "Y_train = train_data['overall_rating']\n",
    "Y_dev = dev_data['overall_rating']\n",
    "Y_test = test_data['overall_rating']"
   ]
  },
  {
   "cell_type": "code",
   "execution_count": 36,
   "metadata": {},
   "outputs": [
    {
     "data": {
      "text/plain": [
       "(676028, 100000)"
      ]
     },
     "execution_count": 36,
     "metadata": {},
     "output_type": "execute_result"
    }
   ],
   "source": [
    "X_train.shape"
   ]
  },
  {
   "cell_type": "markdown",
   "metadata": {},
   "source": [
    "***\n",
    "**定义模型用于多分类，多项式分布的朴素贝叶斯和逻辑斯谛克回归**"
   ]
  },
  {
   "cell_type": "code",
   "execution_count": 81,
   "metadata": {},
   "outputs": [],
   "source": [
    "from sklearn.linear_model import LogisticRegression\n",
    "from sklearn import naive_bayes\n",
    "from sklearn import metrics\n",
    "from sklearn import linear_model\n",
    "from sklearn import svm\n",
    "from collections import Counter\n",
    "import time\n",
    "from multiprocessing import cpu_count\n",
    "\n",
    "\n",
    "def modelNB(trainX, trainY, testX, testY):\n",
    "    clf = naive_bayes.MultinomialNB()\n",
    "    clf.fit(trainX, trainY)\n",
    "    predsTest = clf.predict(testX)\n",
    "    predsTrain = clf.predict(trainX)\n",
    "    \n",
    "    acc = metrics.accuracy_score(testY, predsTest)\n",
    "    report = metrics.classification_report(testY, predsTest, target_names=[str(i+1) for i in range(5)], digits=4)\n",
    "    confusion = metrics.confusion_matrix(testY, predsTest)\n",
    "    print('多项式分布的朴素贝叶斯 test --------')\n",
    "    print(round(acc,4))\n",
    "    print(report)\n",
    "    print(confusion)\n",
    "    \n",
    "    \n",
    "def modelLogit(trainX, trainY, testX, testY):\n",
    "    clf = LogisticRegression(penalty='l2', C=1)\n",
    "    clf.fit(trainX, trainY)\n",
    "\n",
    "    predsTest = clf.predict(testX)\n",
    "    predsTrain = clf.predict(trainX)\n",
    "\n",
    "    acc = metrics.accuracy_score(testY, predsTest)\n",
    "    report = metrics.classification_report(testY, predsTest, target_names=[str(i+1) for i in range(5)], digits=4)\n",
    "    confusion = metrics.confusion_matrix(testY, predsTest)\n",
    "    print('Logistic regression test -------')\n",
    "    print(round(acc,4))\n",
    "    print(report)\n",
    "    print(confusion)\n",
    "\n",
    "def modelSVM(trainX, trainY, testX, testY):\n",
    "    clf = svm.SVC(kernel='linear', C=1.6)\n",
    "    clf.fit(trainX, trainY)\n",
    "\n",
    "    predsTest = clf.predict(testX)\n",
    "    predsTrain = clf.predict(trainX)\n",
    "\n",
    "    print('线性核SVM test -------')\n",
    "    acc = metrics.accuracy_score(testY, predsTest)\n",
    "    report = metrics.classification_report(testY, predsTest, target_names=[str(i+1) for i in range(5)], digits=4)\n",
    "    confusion = metrics.confusion_matrix(testY, predsTest)\n",
    "    print(round(acc,4))\n",
    "    print(report)\n",
    "    print(confusion)"
   ]
  },
  {
   "cell_type": "code",
   "execution_count": 40,
   "metadata": {},
   "outputs": [
    {
     "name": "stderr",
     "output_type": "stream",
     "text": [
      "E:\\Anaconda3\\lib\\site-packages\\sklearn\\linear_model\\_logistic.py:940: ConvergenceWarning: lbfgs failed to converge (status=1):\n",
      "STOP: TOTAL NO. of ITERATIONS REACHED LIMIT.\n",
      "\n",
      "Increase the number of iterations (max_iter) or scale the data as shown in:\n",
      "    https://scikit-learn.org/stable/modules/preprocessing.html\n",
      "Please also refer to the documentation for alternative solver options:\n",
      "    https://scikit-learn.org/stable/modules/linear_model.html#logistic-regression\n",
      "  extra_warning_msg=_LOGISTIC_SOLVER_CONVERGENCE_MSG)\n"
     ]
    },
    {
     "name": "stdout",
     "output_type": "stream",
     "text": [
      "Logistic regression test -------\n",
      "0.4779\n",
      "              precision    recall  f1-score   support\n",
      "\n",
      "           1     0.5599    0.5308    0.5450      6991\n",
      "           2     0.4145    0.1505    0.2209      7121\n",
      "           3     0.4202    0.4122    0.4162     19131\n",
      "           4     0.4308    0.4420    0.4363     25595\n",
      "           5     0.5403    0.6339    0.5834     26543\n",
      "\n",
      "    accuracy                         0.4779     85381\n",
      "   macro avg     0.4731    0.4339    0.4403     85381\n",
      "weighted avg     0.4717    0.4779    0.4684     85381\n",
      "\n",
      "[[ 3711   565  1739   560   416]\n",
      " [ 1480  1072  2764  1133   672]\n",
      " [ 1015   705  7886  5831  3694]\n",
      " [  266   176  4307 11312  9534]\n",
      " [  156    68  2071  7423 16825]]\n",
      "\n",
      "71.3605842590332\n"
     ]
    }
   ],
   "source": [
    "t0 = time.time()\n",
    "modelLogit(X_train, Y_train, X_test, Y_test)\n",
    "print()\n",
    "print(time.time() - t0)"
   ]
  },
  {
   "cell_type": "code",
   "execution_count": 41,
   "metadata": {},
   "outputs": [
    {
     "name": "stdout",
     "output_type": "stream",
     "text": [
      "高斯分布的朴素贝叶斯 test --------\n",
      "0.4772\n",
      "              precision    recall  f1-score   support\n",
      "\n",
      "           1     0.5252    0.5569    0.5405      6991\n",
      "           2     0.5833    0.0875    0.1522      7121\n",
      "           3     0.4121    0.4306    0.4211     19131\n",
      "           4     0.4280    0.4602    0.4435     25595\n",
      "           5     0.5518    0.6109    0.5798     26543\n",
      "\n",
      "    accuracy                         0.4772     85381\n",
      "   macro avg     0.5001    0.4292    0.4274     85381\n",
      "weighted avg     0.4838    0.4772    0.4645     85381\n",
      "\n",
      "[[ 3893   192  1910   564   432]\n",
      " [ 1703   623  3028  1177   590]\n",
      " [ 1290   179  8238  6030  3394]\n",
      " [  340    57  4663 11778  8757]\n",
      " [  187    17  2152  7971 16216]]\n",
      "\n",
      "0.6911783218383789\n"
     ]
    }
   ],
   "source": [
    "t0 = time.time()\n",
    "modelNB(X_train, Y_train, X_test, Y_test)\n",
    "print()\n",
    "print(time.time() - t0)"
   ]
  },
  {
   "cell_type": "markdown",
   "metadata": {},
   "source": [
    "## 使用总结性描述、缺点描述和优点描述"
   ]
  },
  {
   "cell_type": "code",
   "execution_count": 66,
   "metadata": {},
   "outputs": [],
   "source": [
    "train_text = [clean(text) for text in train_data.loc[:]['text']]\n",
    "dev_text = [clean(text) for text in dev_data.loc[:]['text']]\n",
    "test_text = [clean(text) for text in test_data.loc[:]['text']]\n",
    "\n",
    "train_cons_text = [clean(text) for text in train_data.loc[:]['cons']]\n",
    "train_pros_text = [clean(text) for text in train_data.loc[:]['pros']]\n",
    "\n",
    "dev_cons_text = [clean(text) for text in dev_data.loc[:]['cons']]\n",
    "dev_pros_text = [clean(text) for text in dev_data.loc[:]['pros']]\n",
    "\n",
    "test_cons_text = [clean(text) for text in test_data.loc[:]['cons']]\n",
    "test_pros_text = [clean(text) for text in test_data.loc[:]['pros']]\n"
   ]
  },
  {
   "cell_type": "code",
   "execution_count": 67,
   "metadata": {},
   "outputs": [],
   "source": [
    "train_text = [train_text[ii] + ' ' + train_cons_text[ii] + ' ' + train_pros_text[ii] for ii in range(len(train_text))]\n",
    "dev_text = [dev_text[ii] + ' ' + dev_cons_text[ii] + ' ' + dev_pros_text[ii] for ii in range(len(dev_text))]\n",
    "test_text = [test_text[ii] + ' ' + test_cons_text[ii] + ' ' + test_pros_text[ii] for ii in range(len(test_text))]"
   ]
  },
  {
   "cell_type": "code",
   "execution_count": 69,
   "metadata": {},
   "outputs": [
    {
     "data": {
      "text/plain": [
       "676028"
      ]
     },
     "execution_count": 69,
     "metadata": {},
     "output_type": "execute_result"
    }
   ],
   "source": [
    "len(train_text)"
   ]
  },
  {
   "cell_type": "code",
   "execution_count": 77,
   "metadata": {},
   "outputs": [],
   "source": [
    "tfidf_transformer = TfidfVectorizer(ngram_range=(1, 2), max_features=100000)"
   ]
  },
  {
   "cell_type": "code",
   "execution_count": 78,
   "metadata": {},
   "outputs": [],
   "source": [
    "X_train = tfidf_transformer.fit_transform(train_text)\n",
    "X_test = tfidf_transformer.transform(test_text)\n",
    "X_dev = tfidf_transformer.transform(dev_text)"
   ]
  },
  {
   "cell_type": "code",
   "execution_count": 79,
   "metadata": {},
   "outputs": [
    {
     "name": "stderr",
     "output_type": "stream",
     "text": [
      "E:\\Anaconda3\\lib\\site-packages\\sklearn\\linear_model\\_logistic.py:940: ConvergenceWarning: lbfgs failed to converge (status=1):\n",
      "STOP: TOTAL NO. of ITERATIONS REACHED LIMIT.\n",
      "\n",
      "Increase the number of iterations (max_iter) or scale the data as shown in:\n",
      "    https://scikit-learn.org/stable/modules/preprocessing.html\n",
      "Please also refer to the documentation for alternative solver options:\n",
      "    https://scikit-learn.org/stable/modules/linear_model.html#logistic-regression\n",
      "  extra_warning_msg=_LOGISTIC_SOLVER_CONVERGENCE_MSG)\n"
     ]
    },
    {
     "name": "stdout",
     "output_type": "stream",
     "text": [
      "Logistic regression test -------\n",
      "0.4847\n",
      "              precision    recall  f1-score   support\n",
      "\n",
      "           1     0.5621    0.5534    0.5577      6991\n",
      "           2     0.4189    0.1628    0.2344      7121\n",
      "           3     0.4241    0.4272    0.4256     19131\n",
      "           4     0.4360    0.4540    0.4448     25595\n",
      "           5     0.5557    0.6242    0.5879     26543\n",
      "\n",
      "    accuracy                         0.4847     85381\n",
      "   macro avg     0.4794    0.4443    0.4501     85381\n",
      "weighted avg     0.4795    0.4847    0.4767     85381\n",
      "\n",
      "[[ 3869   612  1636   479   395]\n",
      " [ 1586  1159  2716  1069   591]\n",
      " [ 1031   751  8172  5803  3374]\n",
      " [  259   165  4665 11620  8886]\n",
      " [  138    80  2078  7680 16567]]\n",
      "\n",
      "79.37677812576294\n"
     ]
    }
   ],
   "source": [
    "t0 = time.time()\n",
    "modelLogit(X_train, Y_train, X_test, Y_test)\n",
    "print()\n",
    "print(time.time() - t0)"
   ]
  },
  {
   "cell_type": "code",
   "execution_count": 82,
   "metadata": {},
   "outputs": [
    {
     "name": "stdout",
     "output_type": "stream",
     "text": [
      "多项式分布的朴素贝叶斯 test --------\n",
      "0.4824\n",
      "              precision    recall  f1-score   support\n",
      "\n",
      "           1     0.5389    0.5612    0.5498      6991\n",
      "           2     0.5871    0.0918    0.1588      7121\n",
      "           3     0.4151    0.4380    0.4263     19131\n",
      "           4     0.4323    0.4745    0.4524     25595\n",
      "           5     0.5603    0.6060    0.5823     26543\n",
      "\n",
      "    accuracy                         0.4824     85381\n",
      "   macro avg     0.5068    0.4343    0.4339     85381\n",
      "weighted avg     0.4899    0.4824    0.4704     85381\n",
      "\n",
      "[[ 3923   211  1928   516   413]\n",
      " [ 1677   654  3108  1117   565]\n",
      " [ 1197   188  8380  6128  3238]\n",
      " [  307    51  4685 12145  8407]\n",
      " [  175    10  2086  8186 16086]]\n",
      "\n",
      "0.7566533088684082\n"
     ]
    }
   ],
   "source": [
    "t0 = time.time()\n",
    "modelNB(X_train, Y_train, X_test, Y_test)\n",
    "print()\n",
    "print(time.time() - t0)"
   ]
  },
  {
   "cell_type": "code",
   "execution_count": null,
   "metadata": {},
   "outputs": [],
   "source": []
  }
 ],
 "metadata": {
  "kernelspec": {
   "display_name": "Python 3",
   "language": "python",
   "name": "python3"
  },
  "language_info": {
   "codemirror_mode": {
    "name": "ipython",
    "version": 3
   },
   "file_extension": ".py",
   "mimetype": "text/x-python",
   "name": "python",
   "nbconvert_exporter": "python",
   "pygments_lexer": "ipython3",
   "version": "3.7.1"
  }
 },
 "nbformat": 4,
 "nbformat_minor": 4
}
